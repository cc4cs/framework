{
 "cells": [
  {
   "cell_type": "code",
   "execution_count": 175,
   "metadata": {
    "collapsed": true
   },
   "outputs": [],
   "source": [
    "import pandas as pd\n",
    "import numpy as np\n",
    "import seaborn as sns\n",
    "import matplotlib.pyplot as plt\n",
    "import glob as glb"
   ]
  },
  {
   "cell_type": "code",
   "execution_count": 176,
   "metadata": {
    "collapsed": true
   },
   "outputs": [],
   "source": [
    "def getCC4CSDataFrame(paths):\n",
    "    data_frames = []\n",
    "    for ele in paths:\n",
    "        data_frames.append(pd.read_csv(ele, sep = ';|,', engine='python'))\n",
    "    \n",
    "    res = data_frames[0][' CC4CS']\n",
    "    for i, ele in enumerate(data_frames[1:]):\n",
    "        print(paths[i])\n",
    "        res = res.append(data_frames[i][' CC4CS'], ignore_index=True)\n",
    "        \n",
    "    return res"
   ]
  },
  {
   "cell_type": "markdown",
   "metadata": {},
   "source": [
    "# Leon3 Section"
   ]
  },
  {
   "cell_type": "markdown",
   "metadata": {},
   "source": [
    "### Custom Bench"
   ]
  },
  {
   "cell_type": "code",
   "execution_count": 177,
   "metadata": {},
   "outputs": [
    {
     "name": "stdout",
     "output_type": "stream",
     "text": [
      "/home/xeder/Desktop/material/cc4cs/cc4cs/benchmark/custom/banker_algorithm/sparc_leon3/int8/banker_alg_sparcReport.csv\n",
      "/home/xeder/Desktop/material/cc4cs/cc4cs/benchmark/custom/gcd/sparc_leon3/int8/gcd_sparcReport.csv\n",
      "/home/xeder/Desktop/material/cc4cs/cc4cs/benchmark/custom/bellman_ford/sparc_leon3/int8/bellman_ford_sparcReport.csv\n",
      "/home/xeder/Desktop/material/cc4cs/cc4cs/benchmark/custom/insertionsort/sparc_leon3/int8/insertion_sort_sparcReport.csv\n",
      "/home/xeder/Desktop/material/cc4cs/cc4cs/benchmark/custom/floyd_warshall/sparc_leon3/int8/floyd_warshall_sparcReport.csv\n",
      "/home/xeder/Desktop/material/cc4cs/cc4cs/benchmark/custom/matrix_mul/sparc_leon3/int8/matrix_multiplication_sparcReport.csv\n",
      "/home/xeder/Desktop/material/cc4cs/cc4cs/benchmark/custom/kruskal/sparc_leon3/int8/kruskal_sparcReport.csv\n",
      "/home/xeder/Desktop/material/cc4cs/cc4cs/benchmark/custom/bubblesort/sparc_leon3/int8/bubble_sort_op_sparcReport.csv\n",
      "/home/xeder/Desktop/material/cc4cs/cc4cs/benchmark/custom/a_star/sparc_leon3/int8/a_star_sparcReport.csv\n",
      "/home/xeder/Desktop/material/cc4cs/cc4cs/benchmark/custom/bfs_dfs/sparc_leon3/int8/bfs_dfs_sparcReport.csv\n",
      "/home/xeder/Desktop/material/cc4cs/cc4cs/benchmark/custom/selectionsort/sparc_leon3/int8/selection_sort_sparcReport.csv\n",
      "/home/xeder/Desktop/material/cc4cs/cc4cs/benchmark/custom/quicksort/sparc_leon3/int8/quicksort_sparcReport.csv\n",
      "/home/xeder/Desktop/material/cc4cs/cc4cs/benchmark/custom/binarysearch/sparc_leon3/int8/binary_search_sparcReport.csv\n",
      "/home/xeder/Desktop/material/cc4cs/cc4cs/benchmark/custom/dijkstra/sparc_leon3/int8/dijkstra_sparcReport.csv\n"
     ]
    }
   ],
   "source": [
    "paths = glb.glob('/home/xeder/Desktop/material/cc4cs/cc4cs/benchmark/custom/*/sparc_leon3/int8/*.csv')\n",
    "leon8Res = getCC4CSDataFrame(paths)"
   ]
  },
  {
   "cell_type": "code",
   "execution_count": 178,
   "metadata": {},
   "outputs": [
    {
     "name": "stdout",
     "output_type": "stream",
     "text": [
      "/home/xeder/Desktop/material/cc4cs/cc4cs/benchmark/custom/banker_algorithm/sparc_leon3/int16/banker_alg_sparcReport.csv\n",
      "/home/xeder/Desktop/material/cc4cs/cc4cs/benchmark/custom/gcd/sparc_leon3/int16/gcd_sparcReport.csv\n",
      "/home/xeder/Desktop/material/cc4cs/cc4cs/benchmark/custom/bellman_ford/sparc_leon3/int16/bellman_ford_sparcReport.csv\n",
      "/home/xeder/Desktop/material/cc4cs/cc4cs/benchmark/custom/insertionsort/sparc_leon3/int16/insertion_sort_sparcReport.csv\n",
      "/home/xeder/Desktop/material/cc4cs/cc4cs/benchmark/custom/floyd_warshall/sparc_leon3/int16/floyd_warshall_sparcReport.csv\n",
      "/home/xeder/Desktop/material/cc4cs/cc4cs/benchmark/custom/kruskal/sparc_leon3/int16/kruskal_sparcReport.csv\n",
      "/home/xeder/Desktop/material/cc4cs/cc4cs/benchmark/custom/bubblesort/sparc_leon3/int16/bubble_sort_op_sparcReport.csv\n",
      "/home/xeder/Desktop/material/cc4cs/cc4cs/benchmark/custom/a_star/sparc_leon3/int16/a_star_sparcReport.csv\n",
      "/home/xeder/Desktop/material/cc4cs/cc4cs/benchmark/custom/bfs_dfs/sparc_leon3/int16/bfs_dfs_sparcReport.csv\n",
      "/home/xeder/Desktop/material/cc4cs/cc4cs/benchmark/custom/selectionsort/sparc_leon3/int16/selection_sort_sparcReport.csv\n",
      "/home/xeder/Desktop/material/cc4cs/cc4cs/benchmark/custom/quicksort/sparc_leon3/int16/quicksort_sparcReport.csv\n",
      "/home/xeder/Desktop/material/cc4cs/cc4cs/benchmark/custom/binarysearch/sparc_leon3/int16/binary_search_sparcReport.csv\n",
      "/home/xeder/Desktop/material/cc4cs/cc4cs/benchmark/custom/dijkstra/sparc_leon3/int16/dijkstra_sparcReport.csv\n"
     ]
    }
   ],
   "source": [
    "paths = glb.glob('/home/xeder/Desktop/material/cc4cs/cc4cs/benchmark/custom/*/sparc_leon3/int16/*.csv')\n",
    "leon16Res = getCC4CSDataFrame(paths)"
   ]
  },
  {
   "cell_type": "code",
   "execution_count": 179,
   "metadata": {},
   "outputs": [
    {
     "name": "stdout",
     "output_type": "stream",
     "text": [
      "/home/xeder/Desktop/material/cc4cs/cc4cs/benchmark/custom/banker_algorithm/sparc_leon3/int32/banker_alg_sparcReport.csv\n",
      "/home/xeder/Desktop/material/cc4cs/cc4cs/benchmark/custom/gcd/sparc_leon3/int32/gcd_sparcReport.csv\n",
      "/home/xeder/Desktop/material/cc4cs/cc4cs/benchmark/custom/bellman_ford/sparc_leon3/int32/bellman_ford_sparcReport.csv\n",
      "/home/xeder/Desktop/material/cc4cs/cc4cs/benchmark/custom/insertionsort/sparc_leon3/int32/insertion_sort_sparcReport.csv\n",
      "/home/xeder/Desktop/material/cc4cs/cc4cs/benchmark/custom/floyd_warshall/sparc_leon3/int32/floyd_warshall_sparcReport.csv\n",
      "/home/xeder/Desktop/material/cc4cs/cc4cs/benchmark/custom/matrix_mul/sparc_leon3/int32/matrix_multiplication_sparcReport.csv\n",
      "/home/xeder/Desktop/material/cc4cs/cc4cs/benchmark/custom/kruskal/sparc_leon3/int32/kruskal_sparcReport.csv\n",
      "/home/xeder/Desktop/material/cc4cs/cc4cs/benchmark/custom/bubblesort/sparc_leon3/int32/bubble_sort_op_sparcReport.csv\n",
      "/home/xeder/Desktop/material/cc4cs/cc4cs/benchmark/custom/a_star/sparc_leon3/int32/a_star_sparcReport.csv\n",
      "/home/xeder/Desktop/material/cc4cs/cc4cs/benchmark/custom/bfs_dfs/sparc_leon3/int32/bfs_dfs_sparcReport.csv\n",
      "/home/xeder/Desktop/material/cc4cs/cc4cs/benchmark/custom/selectionsort/sparc_leon3/int32/selection_sort_sparcReport.csv\n",
      "/home/xeder/Desktop/material/cc4cs/cc4cs/benchmark/custom/quicksort/sparc_leon3/int32/quicksort_sparcReport.csv\n",
      "/home/xeder/Desktop/material/cc4cs/cc4cs/benchmark/custom/binarysearch/sparc_leon3/int32/binary_search_sparcReport.csv\n",
      "/home/xeder/Desktop/material/cc4cs/cc4cs/benchmark/custom/dijkstra/sparc_leon3/int32/dijkstra_sparcReport.csv\n"
     ]
    }
   ],
   "source": [
    "paths = glb.glob('/home/xeder/Desktop/material/cc4cs/cc4cs/benchmark/custom/*/sparc_leon3/int32/*.csv')\n",
    "leon32Res = getCC4CSDataFrame(paths)"
   ]
  },
  {
   "cell_type": "code",
   "execution_count": 180,
   "metadata": {},
   "outputs": [
    {
     "name": "stdout",
     "output_type": "stream",
     "text": [
      "/home/xeder/Desktop/material/cc4cs/cc4cs/benchmark/custom/banker_algorithm/sparc_leon3/float/banker_alg_sparcReport.csv\n",
      "/home/xeder/Desktop/material/cc4cs/cc4cs/benchmark/custom/bellman_ford/sparc_leon3/float/bellman_ford_sparcReport.csv\n",
      "/home/xeder/Desktop/material/cc4cs/cc4cs/benchmark/custom/insertionsort/sparc_leon3/float/insertion_sort_sparcReport.csv\n",
      "/home/xeder/Desktop/material/cc4cs/cc4cs/benchmark/custom/floyd_warshall/sparc_leon3/float/floyd_warshall_sparcReport.csv\n",
      "/home/xeder/Desktop/material/cc4cs/cc4cs/benchmark/custom/matrix_mul/sparc_leon3/float/matrix_multiplication_sparcReport.csv\n",
      "/home/xeder/Desktop/material/cc4cs/cc4cs/benchmark/custom/kruskal/sparc_leon3/float/kruskal_sparcReport.csv\n",
      "/home/xeder/Desktop/material/cc4cs/cc4cs/benchmark/custom/bubblesort/sparc_leon3/float/bubble_sort_op_sparcReport.csv\n",
      "/home/xeder/Desktop/material/cc4cs/cc4cs/benchmark/custom/a_star/sparc_leon3/float/a_star_sparcReport.csv\n",
      "/home/xeder/Desktop/material/cc4cs/cc4cs/benchmark/custom/bfs_dfs/sparc_leon3/float/bfs_dfs_sparcReport.csv\n",
      "/home/xeder/Desktop/material/cc4cs/cc4cs/benchmark/custom/selectionsort/sparc_leon3/float/selection_sort_sparcReport.csv\n",
      "/home/xeder/Desktop/material/cc4cs/cc4cs/benchmark/custom/quicksort/sparc_leon3/float/quicksort_sparcReport.csv\n",
      "/home/xeder/Desktop/material/cc4cs/cc4cs/benchmark/custom/binarysearch/sparc_leon3/float/binary_search_sparcReport.csv\n",
      "/home/xeder/Desktop/material/cc4cs/cc4cs/benchmark/custom/dijkstra/sparc_leon3/float/dijkstra_sparcReport.csv\n"
     ]
    }
   ],
   "source": [
    "paths = glb.glob('/home/xeder/Desktop/material/cc4cs/cc4cs/benchmark/custom/*/sparc_leon3/float/*.csv')\n",
    "floatRes = getCC4CSDataFrame(paths)"
   ]
  },
  {
   "cell_type": "code",
   "execution_count": 181,
   "metadata": {},
   "outputs": [
    {
     "data": {
      "image/png": "[encoded data removed]",
      "text/plain": [
       "<matplotlib.figure.Figure at 0x7f420407d358>"
      ]
     },
     "metadata": {},
     "output_type": "display_data"
    }
   ],
   "source": [
    "sns.distplot(leon8Res.dropna(), label = \"int8\", hist = False)\n",
    "sns.distplot(leon16Res.dropna(), label = \"int16\", hist = False)\n",
    "sns.distplot(leon32Res.dropna(), label = \"int32\", hist = False)\n",
    "sns.distplot(floatRes.dropna(), label = \"float\", hist = False)\n",
    "plt.legend()\n",
    "plt.title(\"Custom Benchmark Results on Leon3\")\n",
    "plt.show()\n"
   ]
  },
  {
   "cell_type": "markdown",
   "metadata": {},
   "source": [
    "### Preexistent Bench "
   ]
  },
  {
   "cell_type": "code",
   "execution_count": 182,
   "metadata": {},
   "outputs": [
    {
     "name": "stdout",
     "output_type": "stream",
     "text": [
      "/home/xeder/Desktop/material/cc4cs/cc4cs/benchmark/numrecipes/fft/sparc_leon3/int8/fft_sparcReport.csv\n",
      "/home/xeder/Desktop/material/cc4cs/cc4cs/benchmark/numrecipes/lud/sparc_leon3/int8/lud_sparcReport.csv\n",
      "/home/xeder/Desktop/material/cc4cs/cc4cs/benchmark/numrecipes/fibcall/sparc_leon3/int8/fibcall_sparcReport.csv\n",
      "/home/xeder/Desktop/material/cc4cs/cc4cs/benchmark/numrecipes/sqrt/sparc_leon3/int8/sqrt_sparcReport.csv\n",
      "/home/xeder/Desktop/material/cc4cs/cc4cs/benchmark/numrecipes/prime/sparc_leon3/int8/prime_sparcReport.csv\n",
      "/home/xeder/Desktop/material/cc4cs/cc4cs/benchmark/numrecipes/park_miller/sparc_leon3/int8/park_miller_sparcReport.csv\n",
      "/home/xeder/Desktop/material/cc4cs/cc4cs/benchmark/numrecipes/qsort/sparc_leon3/int8/qsort_sparcReport.csv\n",
      "/home/xeder/Desktop/material/cc4cs/cc4cs/benchmark/numrecipes/straight_sort/sparc_leon3/int8/straight_sort_sparcReport.csv\n",
      "/home/xeder/Desktop/material/cc4cs/cc4cs/benchmark/numrecipes/select/sparc_leon3/int8/select_sparcReport.csv\n"
     ]
    }
   ],
   "source": [
    "paths = glb.glob('/home/xeder/Desktop/material/cc4cs/cc4cs/benchmark/numrecipes/*/sparc_leon3/int8/*.csv')\n",
    "leon8NumRes = getCC4CSDataFrame(paths)"
   ]
  },
  {
   "cell_type": "code",
   "execution_count": 183,
   "metadata": {},
   "outputs": [
    {
     "name": "stdout",
     "output_type": "stream",
     "text": [
      "/home/xeder/Desktop/material/cc4cs/cc4cs/benchmark/numrecipes/fft/sparc_leon3/int16/fft_sparcReport.csv\n",
      "/home/xeder/Desktop/material/cc4cs/cc4cs/benchmark/numrecipes/lud/sparc_leon3/int16/lud_sparcReport.csv\n",
      "/home/xeder/Desktop/material/cc4cs/cc4cs/benchmark/numrecipes/fibcall/sparc_leon3/int16/fibcall_sparcReport.csv\n",
      "/home/xeder/Desktop/material/cc4cs/cc4cs/benchmark/numrecipes/sqrt/sparc_leon3/int16/sqrt_sparcReport.csv\n",
      "/home/xeder/Desktop/material/cc4cs/cc4cs/benchmark/numrecipes/prime/sparc_leon3/int16/prime_sparcReport.csv\n",
      "/home/xeder/Desktop/material/cc4cs/cc4cs/benchmark/numrecipes/park_miller/sparc_leon3/int16/park_miller_sparcReport.csv\n",
      "/home/xeder/Desktop/material/cc4cs/cc4cs/benchmark/numrecipes/qsort/sparc_leon3/int16/qsort_sparcReport.csv\n",
      "/home/xeder/Desktop/material/cc4cs/cc4cs/benchmark/numrecipes/straight_sort/sparc_leon3/int16/straight_sort_sparcReport.csv\n",
      "/home/xeder/Desktop/material/cc4cs/cc4cs/benchmark/numrecipes/select/sparc_leon3/int16/select_sparcReport.csv\n"
     ]
    }
   ],
   "source": [
    "paths = glb.glob('/home/xeder/Desktop/material/cc4cs/cc4cs/benchmark/numrecipes/*/sparc_leon3/int16/*.csv')\n",
    "leon16NumRes = getCC4CSDataFrame(paths)"
   ]
  },
  {
   "cell_type": "code",
   "execution_count": 185,
   "metadata": {},
   "outputs": [
    {
     "name": "stdout",
     "output_type": "stream",
     "text": [
      "/home/xeder/Desktop/material/cc4cs/cc4cs/benchmark/numrecipes/fft/sparc_leon3/int32/fft_sparcReport.csv\n",
      "/home/xeder/Desktop/material/cc4cs/cc4cs/benchmark/numrecipes/lud/sparc_leon3/int32/lud_sparcReport.csv\n",
      "/home/xeder/Desktop/material/cc4cs/cc4cs/benchmark/numrecipes/fibcall/sparc_leon3/int32/fibcall_sparcReport.csv\n",
      "/home/xeder/Desktop/material/cc4cs/cc4cs/benchmark/numrecipes/sqrt/sparc_leon3/int32/sqrt_sparcReport.csv\n",
      "/home/xeder/Desktop/material/cc4cs/cc4cs/benchmark/numrecipes/prime/sparc_leon3/int32/prime_sparcReport.csv\n",
      "/home/xeder/Desktop/material/cc4cs/cc4cs/benchmark/numrecipes/park_miller/sparc_leon3/int32/park_miller_sparcReport.csv\n",
      "/home/xeder/Desktop/material/cc4cs/cc4cs/benchmark/numrecipes/qsort/sparc_leon3/int32/qsort_sparcReport.csv\n",
      "/home/xeder/Desktop/material/cc4cs/cc4cs/benchmark/numrecipes/straight_sort/sparc_leon3/int32/straight_sort_sparcReport.csv\n",
      "/home/xeder/Desktop/material/cc4cs/cc4cs/benchmark/numrecipes/select/sparc_leon3/int32/select_sparcReport.csv\n"
     ]
    }
   ],
   "source": [
    "paths = glb.glob('/home/xeder/Desktop/material/cc4cs/cc4cs/benchmark/numrecipes/*/sparc_leon3/int32/*_sparcReport.csv')\n",
    "leon32NumRes = getCC4CSDataFrame(paths)"
   ]
  },
  {
   "cell_type": "code",
   "execution_count": 195,
   "metadata": {},
   "outputs": [
    {
     "name": "stdout",
     "output_type": "stream",
     "text": [
      "/home/xeder/Desktop/material/cc4cs/cc4cs/benchmark/numrecipes/lud/sparc_leon3/float/lud_sparcReport.csv\n",
      "/home/xeder/Desktop/material/cc4cs/cc4cs/benchmark/numrecipes/fibcall/sparc_leon3/float/fibcall_sparcReport.csv\n",
      "/home/xeder/Desktop/material/cc4cs/cc4cs/benchmark/numrecipes/sqrt/sparc_leon3/float/sqrt_sparcReport.csv\n",
      "/home/xeder/Desktop/material/cc4cs/cc4cs/benchmark/numrecipes/prime/sparc_leon3/float/prime_sparcReport.csv\n",
      "/home/xeder/Desktop/material/cc4cs/cc4cs/benchmark/numrecipes/qsort/sparc_leon3/float/qsort_sparcReport.csv\n",
      "/home/xeder/Desktop/material/cc4cs/cc4cs/benchmark/numrecipes/straight_sort/sparc_leon3/float/straight_sort_sparcReport.csv\n",
      "/home/xeder/Desktop/material/cc4cs/cc4cs/benchmark/numrecipes/select/sparc_leon3/float/select_sparcReport.csv\n"
     ]
    }
   ],
   "source": [
    "paths = glb.glob('/home/xeder/Desktop/material/cc4cs/cc4cs/benchmark/numrecipes/*/sparc_leon3/float/*_sparcReport.csv')\n",
    "leon3floatNumRes = getCC4CSDataFrame(paths)"
   ]
  },
  {
   "cell_type": "code",
   "execution_count": 194,
   "metadata": {},
   "outputs": [
    {
     "data": {
      "image/png": "[encoded data removed]",
      "text/plain": [
       "<matplotlib.figure.Figure at 0x7f4203dbd908>"
      ]
     },
     "metadata": {},
     "output_type": "display_data"
    }
   ],
   "source": [
    "sns.distplot(leon8NumRes.dropna(), label = \"int8\", hist = False)\n",
    "sns.distplot(leon16NumRes.dropna(), label = \"int16\", hist = False)\n",
    "sns.distplot(leon32NumRes.dropna(), label = \"int32\", hist = False)\n",
    "sns.distplot(leon3floatNumRes.dropna(), label = \"int32\", hist = False)\n",
    "plt.legend()\n",
    "plt.title(\"Preexistent Benchmark Results on Leon3\")\n",
    "plt.show()"
   ]
  },
  {
   "cell_type": "markdown",
   "metadata": {},
   "source": [
    "## End Leon3 Section\n",
    "# Atmega328p Section\n",
    "### Custom Bench"
   ]
  },
  {
   "cell_type": "code",
   "execution_count": null,
   "metadata": {},
   "outputs": [],
   "source": [
    "paths = glb.glob('/home/xeder/Desktop/material/cc4cs/cc4cs/benchmark/custom/*/atmega328/int8/atmega328_report.csv')\n",
    "atmega8Res = getCC4CSDataFrame(paths)"
   ]
  },
  {
   "cell_type": "code",
   "execution_count": null,
   "metadata": {},
   "outputs": [],
   "source": [
    "paths = glb.glob('/home/xeder/Desktop/material/cc4cs/cc4cs/benchmark/custom/*/atmega328/int16/atmega328_report.csv')\n",
    "atmega16Res = getCC4CSDataFrame(paths)"
   ]
  },
  {
   "cell_type": "code",
   "execution_count": null,
   "metadata": {},
   "outputs": [],
   "source": [
    "paths = glb.glob('/home/xeder/Desktop/material/cc4cs/cc4cs/benchmark/custom/*/atmega328/int32/atmega328_report.csv')\n",
    "atmega32Res = getCC4CSDataFrame(paths)"
   ]
  },
  {
   "cell_type": "code",
   "execution_count": null,
   "metadata": {},
   "outputs": [],
   "source": [
    "paths = glb.glob('/home/xeder/Desktop/material/cc4cs/cc4cs/benchmark/custom/*/atmega328/float/atmega328_report.csv')\n",
    "floatRes = getCC4CSDataFrame(paths)"
   ]
  },
  {
   "cell_type": "code",
   "execution_count": null,
   "metadata": {},
   "outputs": [],
   "source": [
    "sns.distplot(atmega8Res.dropna(), label = \"int8\", hist = False)\n",
    "sns.distplot(atmega16Res.dropna(), label = \"int16\", hist = False)\n",
    "sns.distplot(atmega32Res.dropna(), label = \"int32\", hist = False)\n",
    "sns.distplot(floatRes.dropna(), label = \"float\", hist = False)\n",
    "plt.legend()\n",
    "plt.title(\"Custom Benchmark Results on Atmega328p\")\n",
    "plt.show()"
   ]
  },
  {
   "cell_type": "markdown",
   "metadata": {},
   "source": [
    "### Preexistent Bench "
   ]
  },
  {
   "cell_type": "code",
   "execution_count": null,
   "metadata": {},
   "outputs": [],
   "source": [
    "paths = glb.glob('/home/xeder/Desktop/material/cc4cs/cc4cs/benchmark/numrecipes/*/atmega328/int8/atmega328_report.csv')\n",
    "atmega8NumRes = getCC4CSDataFrame(paths)"
   ]
  },
  {
   "cell_type": "code",
   "execution_count": null,
   "metadata": {
    "collapsed": true
   },
   "outputs": [],
   "source": [
    "paths = glb.glob('/home/xeder/Desktop/material/cc4cs/cc4cs/benchmark/numrecipes/*/atmega328/int16/atmega328_report.csv')\n",
    "atmega16NumRes = getCC4CSDataFrame(paths)"
   ]
  },
  {
   "cell_type": "code",
   "execution_count": null,
   "metadata": {
    "collapsed": true
   },
   "outputs": [],
   "source": [
    "paths = glb.glob('/home/xeder/Desktop/material/cc4cs/cc4cs/benchmark/numrecipes/*/atmega328/int32/atmega328_report.csv')\n",
    "atmega32NumRes = getCC4CSDataFrame(paths)"
   ]
  },
  {
   "cell_type": "code",
   "execution_count": null,
   "metadata": {
    "collapsed": true
   },
   "outputs": [],
   "source": [
    "paths = glb.glob('/home/xeder/Desktop/material/cc4cs/cc4cs/benchmark/numrecipes/*/atmega328/float/atmega328_report.csv')\n",
    "floatNumRes = getCC4CSDataFrame(paths)"
   ]
  },
  {
   "cell_type": "code",
   "execution_count": null,
   "metadata": {
    "scrolled": true
   },
   "outputs": [],
   "source": [
    "sns.distplot(atmega8NumRes.dropna(), label = \"int8\", hist = False)\n",
    "sns.distplot(atmega16NumRes.dropna(), label = \"int16\", hist = False)\n",
    "sns.distplot(atmega32NumRes.dropna(), label = \"int32\", hist = False)\n",
    "sns.distplot(floatNumRes.dropna(), label = \"float\", hist = False)\n",
    "plt.legend()\n",
    "plt.title(\"Custom Benchmark Results on Atmega328p\")\n",
    "plt.show()"
   ]
  },
  {
   "cell_type": "markdown",
   "metadata": {},
   "source": [
    "# Atmega328p End Section\n"
   ]
  }
 ],
 "metadata": {
  "kernelspec": {
   "display_name": "Python 3",
   "language": "python",
   "name": "python3"
  },
  "language_info": {
   "codemirror_mode": {
    "name": "ipython",
    "version": 3
   },
   "file_extension": ".py",
   "mimetype": "text/x-python",
   "name": "python",
   "nbconvert_exporter": "python",
   "pygments_lexer": "ipython3",
   "version": "3.5.4"
  }
 },
 "nbformat": 4,
 "nbformat_minor": 2
}
