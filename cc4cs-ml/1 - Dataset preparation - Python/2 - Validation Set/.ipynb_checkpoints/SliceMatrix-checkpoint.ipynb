{
 "cells": [
  {
   "cell_type": "code",
   "execution_count": 55,
   "metadata": {},
   "outputs": [],
   "source": [
    "import pandas as pd\n",
    "import numpy as np\n",
    "import os\n",
    "import sys\n",
    "import ntpath\n",
    "\n",
    "from os.path import basename"
   ]
  },
  {
   "cell_type": "code",
   "execution_count": 56,
   "metadata": {},
   "outputs": [],
   "source": [
    "def get_immediate_subdirectories(a_dir):\n",
    "    return [name for name in os.listdir(a_dir)\n",
    "            if os.path.isdir(os.path.join(a_dir, name))]"
   ]
  },
  {
   "cell_type": "code",
   "execution_count": 57,
   "metadata": {},
   "outputs": [],
   "source": [
    "listfun = get_immediate_subdirectories(os.getcwd())\n",
    "listfun.remove('.ipynb_checkpoints')"
   ]
  },
  {
   "cell_type": "code",
   "execution_count": 58,
   "metadata": {},
   "outputs": [],
   "source": [
    "# DA AUTOMATIZZARE I DATA_TYPE PRESENTI (DAL FRAMEWORK DEI DATI)\n",
    "listdt = ['float', 'int8_t', 'int16_t', 'int32_t']\n",
    "dicDT = {'DATA_TYPE': listdt}\n",
    "dfDT = pd.DataFrame(dicDT, columns = ['DATA_TYPE'])\n",
    "dfDT.to_csv(\"DataTypeList.csv\", sep=';',index=False)\n",
    "if os.name == 'nt':\n",
    "    dfDT.to_csv(\"C:\\\\Users\\\\User\\\\Desktop\\\\Dataset Lavoro\\\\CC4CS\\\\CC4CS_Analysis\\\\Matlab\\\\Workspaces\\\\Dataset\\\\DataTypeList.csv\", sep=';',index=False)\n",
    "else:\n",
    "    dfDT.to_csv(\"/home/dews/Dataset Ricerca/CC4CS/CC4CS_Analysis/Matlab/Workspaces/Dataset/DataTypeList.csv\", sep=';',index=False)"
   ]
  },
  {
   "cell_type": "code",
   "execution_count": 59,
   "metadata": {},
   "outputs": [],
   "source": [
    "df = pd.read_csv(\"TotalParameterMatrix.csv\", sep=';')\n",
    "del df['Unnamed: 0']"
   ]
  },
  {
   "cell_type": "code",
   "execution_count": 60,
   "metadata": {},
   "outputs": [],
   "source": [
    "# LISTA DISPOSITIVI DA AUTOMATIZZARE (DAL FRAMEWORK DEI DATI)\n",
    "listdev = ['8051', 'atmega328p', 'leon3']\n",
    "dicDEV = {'DATA_TYPE': listdev}\n",
    "dfDEV = pd.DataFrame(dicDEV, columns = ['DATA_TYPE'])\n",
    "dfDEV.to_csv(\"DeviceList.csv\", sep=';',index=False)\n",
    "if os.name == 'nt':\n",
    "    dfDEV.to_csv(\"C:\\\\Users\\\\User\\\\Desktop\\\\Dataset Lavoro\\\\CC4CS\\\\CC4CS_Analysis\\\\Matlab\\\\Workspaces\\\\Dataset\\\\DeviceList.csv\", sep=';',index=False)\n",
    "else:\n",
    "    dfDEV.to_csv(\"/home/dews/Dataset Ricerca/CC4CS/CC4CS_Analysis/Matlab/Workspaces/Dataset/DeviceList.csv\", sep=';',index=False)"
   ]
  },
  {
   "cell_type": "code",
   "execution_count": 61,
   "metadata": {},
   "outputs": [],
   "source": [
    "# DA AUTOMATIZZARE PER DEVICE\n",
    "df8051 = df[df['DEVICE'] == '8051']\n",
    "dfatmega = df[df['DEVICE'] == 'atmega328p']\n",
    "dfleon3 = df[df['DEVICE'] == 'leon3']\n",
    "\n",
    "df8051 = df8051[['cInstr','clockCycles']]\n",
    "dfatmega = dfatmega[['cInstr','clockCycles']]\n",
    "dfleon3 = dfleon3[['cInstr','clockCycles']]\n",
    "\n",
    "df8051.to_csv(\"8051.csv\", sep=';',index=False)\n",
    "dfatmega.to_csv(\"atmega328p.csv\", sep=';',index=False)\n",
    "dfleon3.to_csv(\"leon3.csv\", sep=';',index=False)\n",
    "\n",
    "if os.name == 'nt':\n",
    "    df8051.to_csv(\"C:\\\\Users\\\\User\\\\Desktop\\\\Dataset Lavoro\\\\CC4CS\\\\CC4CS_Analysis\\\\Matlab\\\\Workspaces\\\\Dataset\\\\\"+\"8051\\\\\"+\"file csv\\\\\"+\"8051.csv\", sep=';',index=False)\n",
    "    dfatmega.to_csv(\"C:\\\\Users\\\\User\\\\Desktop\\\\Dataset Lavoro\\\\CC4CS\\\\CC4CS_Analysis\\\\Matlab\\\\Workspaces\\\\Dataset\\\\\"+\"atmega328p\\\\\"+\"file csv\\\\\"+\"atmega328p.csv\", sep=';',index=False)\n",
    "    dfleon3.to_csv(\"C:\\\\Users\\\\User\\\\Desktop\\\\Dataset Lavoro\\\\CC4CS\\\\CC4CS_Analysis\\\\Matlab\\\\Workspaces\\\\Dataset\\\\\"+\"leon3\\\\\"+\"file csv\\\\\"+\"leon3.csv\", sep=';',index=False)\n",
    "else:\n",
    "    df8051.to_csv(\"/home/dews/Dataset Ricerca/CC4CS/CC4CS_Analysis/Matlab/Workspaces/Dataset/\"+\"8051/\"+\"file csv/\"+\"8051.csv\", sep=';',index=False)\n",
    "    dfatmega.to_csv(\"/home/dews/Dataset Ricerca/CC4CS/CC4CS_Analysis/Matlab/Workspaces/Dataset/\"+\"atmega328p/\"+\"file csv/\"+\"atmega328p.csv\", sep=';',index=False)\n",
    "    dfleon3.to_csv(\"/home/dews/Dataset Ricerca/CC4CS/CC4CS_Analysis/Matlab/Workspaces/Dataset/\"+\"leon3/\"+\"file csv/\"+\"leon3.csv\", sep=';',index=False)"
   ]
  },
  {
   "cell_type": "code",
   "execution_count": 62,
   "metadata": {},
   "outputs": [],
   "source": [
    "# DA AUTOMATIZZARE PER DEVICE\n",
    "for i in range(0, len(listfun)):\n",
    "    dfPar = df[(df['DEVICE'] == '8051') & (df['FUNCTION'] == listfun[i])]\n",
    "    dfPar = dfPar[['cInstr','clockCycles']]\n",
    "    if (dfPar.shape[0] != 0):\n",
    "        dfPar.to_csv(\"8051_\"+listfun[i]+\".csv\", sep=';',index=False)\n",
    "        if os.name == 'nt':\n",
    "            dfPar.to_csv(\"C:\\\\Users\\\\User\\\\Desktop\\\\Dataset Lavoro\\\\CC4CS\\\\CC4CS_Analysis\\\\Matlab\\\\Workspaces\\\\Dataset\\\\\"+\"8051\\\\\"+\"file csv\\\\\"+\"8051_\"+listfun[i]+\".csv\", sep=';',index=False)\n",
    "        else:\n",
    "            dfPar.to_csv(\"/home/dews/Dataset Ricerca/CC4CS/CC4CS_Analysis/Matlab/Workspaces/Dataset/\"+\"8051/\"+\"file csv/\"+\"8051_\"+listfun[i]+\".csv\", sep=';',index=False)"
   ]
  },
  {
   "cell_type": "code",
   "execution_count": 63,
   "metadata": {},
   "outputs": [],
   "source": [
    "# DA AUTOMATIZZARE PER DEVICE\n",
    "for i in range(0, len(listfun)):\n",
    "    dfPar = df[(df['DEVICE'] == 'atmega328p') & (df['FUNCTION'] == listfun[i])]\n",
    "    dfPar = dfPar[['cInstr','clockCycles']]\n",
    "    if (dfPar.shape[0] != 0):\n",
    "        dfPar.to_csv(\"atmega328p_\"+listfun[i]+\".csv\", sep=';',index=False)\n",
    "        if os.name == 'nt':\n",
    "            dfPar.to_csv(\"C:\\\\Users\\\\User\\\\Desktop\\\\Dataset Lavoro\\\\CC4CS\\\\CC4CS_Analysis\\\\Matlab\\\\Workspaces\\\\Dataset\\\\\"+\"atmega328p\\\\\"+\"file csv\\\\\"+\"atmega328p_\"+listfun[i]+\".csv\", sep=';',index=False)\n",
    "        else:\n",
    "            dfPar.to_csv(\"/home/dews/Dataset Ricerca/CC4CS/CC4CS_Analysis/Matlab/Workspaces/Dataset/\"+\"atmega328p/\"+\"file csv/\"+\"atmega328p_\"+listfun[i]+\".csv\", sep=';',index=False)"
   ]
  },
  {
   "cell_type": "code",
   "execution_count": 64,
   "metadata": {},
   "outputs": [],
   "source": [
    "# DA AUTOMATIZZARE PER DEVICE\n",
    "for i in range(0, len(listfun)):\n",
    "    dfPar = df[(df['DEVICE'] == 'leon3') & (df['FUNCTION'] == listfun[i])]\n",
    "    dfPar = dfPar[['cInstr','clockCycles']]\n",
    "    if (dfPar.shape[0] != 0):\n",
    "        dfPar.to_csv(\"leon3_\"+listfun[i]+\".csv\", sep=';',index=False)\n",
    "        if os.name == 'nt':\n",
    "            dfPar.to_csv(\"C:\\\\Users\\\\User\\\\Desktop\\\\Dataset Lavoro\\\\CC4CS\\\\CC4CS_Analysis\\\\Matlab\\\\Workspaces\\\\Dataset\\\\\"+\"leon3\\\\\"+\"file csv\\\\\"+\"leon3_\"+listfun[i]+\".csv\", sep=';',index=False)\n",
    "        else:\n",
    "            dfPar.to_csv(\"/home/dews/Dataset Ricerca/CC4CS/CC4CS_Analysis/Matlab/Workspaces/Dataset/\"+\"leon3/\"+\"file csv/\"+\"leon3_\"+listfun[i]+\".csv\", sep=';',index=False)"
   ]
  },
  {
   "cell_type": "code",
   "execution_count": 65,
   "metadata": {},
   "outputs": [],
   "source": [
    "# DA AUTOMATIZZARE PER DEVICE\n",
    "for i in range(0, len(listfun)):\n",
    "    for j in range(0, len(listdt)):\n",
    "        dfPar = df[(df['DEVICE'] == '8051') & (df['FUNCTION'] == listfun[i]) & (df['DATA_TYPE'] == listdt[j])]\n",
    "        dfPar = dfPar[['cInstr','clockCycles']]\n",
    "        if (dfPar.shape[0] != 0):\n",
    "            dfPar.to_csv(\"8051_\"+listfun[i]+\"_\"+listdt[j]+\".csv\", sep=';',index=False)\n",
    "            if os.name == 'nt':\n",
    "                dfPar.to_csv(\"C:\\\\Users\\\\User\\\\Desktop\\\\Dataset Lavoro\\\\CC4CS\\\\CC4CS_Analysis\\\\Matlab\\\\Workspaces\\\\Dataset\\\\\"+\"8051\\\\\"+\"file csv\\\\\"+\"8051_\"+listfun[i]+\"_\"+listdt[j]+\".csv\", sep=';',index=False)\n",
    "            else:\n",
    "                dfPar.to_csv(\"/home/dews/Dataset Ricerca/CC4CS/CC4CS_Analysis/Matlab/Workspaces/Dataset/\"+\"8051/\"+\"file csv/\"+\"8051_\"+listfun[i]+\"_\"+listdt[j]+\".csv\", sep=';',index=False)"
   ]
  },
  {
   "cell_type": "code",
   "execution_count": 66,
   "metadata": {},
   "outputs": [],
   "source": [
    "# DA AUTOMATIZZARE PER DEVICE\n",
    "for i in range(0, len(listfun)):\n",
    "    for j in range(0, len(listdt)):\n",
    "        dfPar = df[(df['DEVICE'] == 'atmega328p') & (df['FUNCTION'] == listfun[i]) & (df['DATA_TYPE'] == listdt[j])]\n",
    "        dfPar = dfPar[['cInstr','clockCycles']]\n",
    "        if (dfPar.shape[0] != 0):\n",
    "            dfPar.to_csv(\"atmega328p_\"+listfun[i]+\"_\"+listdt[j]+\".csv\", sep=';',index=False)\n",
    "            if os.name == 'nt':\n",
    "                dfPar.to_csv(\"C:\\\\Users\\\\User\\\\Desktop\\\\Dataset Lavoro\\\\CC4CS\\\\CC4CS_Analysis\\\\Matlab\\\\Workspaces\\\\Dataset\\\\\"+\"atmega328p\\\\\"+\"file csv\\\\\"+\"atmega328p_\"+listfun[i]+\"_\"+listdt[j]+\".csv\", sep=';',index=False)\n",
    "            else:\n",
    "                dfPar.to_csv(\"/home/dews/Dataset Ricerca/CC4CS/CC4CS_Analysis/Matlab/Workspaces/Dataset/\"+\"atmega328p/\"+\"file csv/\"+\"atmega328p_\"+listfun[i]+\"_\"+listdt[j]+\".csv\", sep=';',index=False)    "
   ]
  },
  {
   "cell_type": "code",
   "execution_count": 67,
   "metadata": {},
   "outputs": [],
   "source": [
    "# DA AUTOMATIZZARE PER DEVICE\n",
    "for i in range(0, len(listfun)):\n",
    "    for j in range(0, len(listdt)):\n",
    "        dfPar = df[(df['DEVICE'] == 'leon3') & (df['FUNCTION'] == listfun[i]) & (df['DATA_TYPE'] == listdt[j])]\n",
    "        dfPar = dfPar[['cInstr','clockCycles']]\n",
    "        if (dfPar.shape[0] != 0):\n",
    "            dfPar.to_csv(\"leon3_\"+listfun[i]+\"_\"+listdt[j]+\".csv\", sep=';',index=False)\n",
    "            if os.name == 'nt':\n",
    "                dfPar.to_csv(\"C:\\\\Users\\\\User\\\\Desktop\\\\Dataset Lavoro\\\\CC4CS\\\\CC4CS_Analysis\\\\Matlab\\\\Workspaces\\\\Dataset\\\\\"+\"leon3\\\\\"+\"file csv\\\\\"+\"leon3_\"+listfun[i]+\"_\"+listdt[j]+\".csv\", sep=';',index=False)\n",
    "            else:\n",
    "                dfPar.to_csv(\"/home/dews/Dataset Ricerca/CC4CS/CC4CS_Analysis/Matlab/Workspaces/Dataset/\"+\"leon3/\"+\"file csv/\"+\"leon3_\"+listfun[i]+\"_\"+listdt[j]+\".csv\", sep=';',index=False)"
   ]
  },
  {
   "cell_type": "code",
   "execution_count": null,
   "metadata": {},
   "outputs": [],
   "source": []
  }
 ],
 "metadata": {
  "kernelspec": {
   "display_name": "Python 3",
   "language": "python",
   "name": "python3"
  },
  "language_info": {
   "codemirror_mode": {
    "name": "ipython",
    "version": 3
   },
   "file_extension": ".py",
   "mimetype": "text/x-python",
   "name": "python",
   "nbconvert_exporter": "python",
   "pygments_lexer": "ipython3",
   "version": "3.6.5"
  }
 },
 "nbformat": 4,
 "nbformat_minor": 2
}
