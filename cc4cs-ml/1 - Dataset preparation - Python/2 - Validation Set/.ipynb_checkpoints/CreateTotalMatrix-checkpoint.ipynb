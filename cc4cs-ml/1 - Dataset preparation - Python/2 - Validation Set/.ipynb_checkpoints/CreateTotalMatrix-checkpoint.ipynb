{
 "cells": [
  {
   "cell_type": "code",
   "execution_count": 23,
   "metadata": {},
   "outputs": [],
   "source": [
    "import pandas as pd\n",
    "import numpy as np\n",
    "import os\n",
    "import sys\n",
    "import ntpath\n",
    "\n",
    "from os.path import basename"
   ]
  },
  {
   "cell_type": "code",
   "execution_count": 24,
   "metadata": {},
   "outputs": [],
   "source": [
    "dfRDC = pd.read_csv(\"RangeValueClassification.csv\", sep=';')\n",
    "del dfRDC['Unnamed: 0']"
   ]
  },
  {
   "cell_type": "code",
   "execution_count": 25,
   "metadata": {},
   "outputs": [],
   "source": [
    "nameFileH = []\n",
    "pathFileH = []\n",
    "rootFileH = []\n",
    "nameFileM = []\n",
    "pathFileM = []\n",
    "rootFileM = []\n",
    "nameFileC = []\n",
    "pathFileC = []\n",
    "rootFileC = []\n",
    "nameFileS = []\n",
    "pathFileS = []\n",
    "rootFileS = []\n",
    "\n",
    "\n",
    "path = os.getcwd()\n",
    "for root, dirs, files in os.walk(path):\n",
    "    for file in files:\n",
    "        if file.endswith(\"Halsted.csv\"):\n",
    "            nameFileH.append(file)\n",
    "            pathFileH.append(os.path.join(root, file))\n",
    "            rootFileH.append(root)\n",
    "        elif file.endswith(\"McCabe.csv\"):\n",
    "            nameFileM.append(file)\n",
    "            pathFileM.append(os.path.join(root, file))\n",
    "            rootFileM.append(root)\n",
    "        elif file.endswith(\"Cycles.csv\"):\n",
    "            nameFileC.append(file)\n",
    "            pathFileC.append(os.path.join(root, file))\n",
    "            rootFileC.append(root)\n",
    "        elif file.endswith(\"Statements.csv\"):\n",
    "            nameFileS.append(file)\n",
    "            pathFileS.append(os.path.join(root, file))\n",
    "            rootFileS.append(root)"
   ]
  },
  {
   "cell_type": "code",
   "execution_count": 26,
   "metadata": {},
   "outputs": [
    {
     "name": "stderr",
     "output_type": "stream",
     "text": [
      "/home/dews/anaconda3/lib/python3.6/site-packages/ipykernel_launcher.py:26: FutureWarning: Sorting because non-concatenation axis is not aligned. A future version\n",
      "of pandas will change to not sort by default.\n",
      "\n",
      "To accept the future behavior, pass 'sort=True'.\n",
      "\n",
      "To retain the current behavior and silence the warning, pass sort=False\n",
      "\n"
     ]
    }
   ],
   "source": [
    "for i in range(0, len(pathFileH)):\n",
    "    path = pathFileH[i]\n",
    "    try:\n",
    "        dfHTemp = pd.read_csv(path, sep=',',engine='python')\n",
    "    except:\n",
    "        print(path)\n",
    "        \n",
    "    if os.name == 'nt':\n",
    "        spR = rootFileH[i].split('\\\\')\n",
    "    else:\n",
    "        spR = rootFileH[i].split('/')\n",
    "    datatype = spR[-1]\n",
    "    device = spR[-3]\n",
    "    function = spR[-4]\n",
    "    dfHTemp['DEVICE'] = device\n",
    "    dfHTemp['FUNCTION'] = function\n",
    "    dfHTemp['DATA_TYPE'] = datatype\n",
    "    dfHTemp['inputName'] = dfHTemp['inputName'].map(lambda x: x.lstrip('values_'))\n",
    "    dfHTemp['inputName'] = dfHTemp['inputName'].astype(int)\n",
    "    dfHTemp.sort_values('inputName')\n",
    "    \n",
    "    if i == 0:\n",
    "        dfHTot = dfHTemp\n",
    "    else:\n",
    "        frames = [dfHTot, dfHTemp]\n",
    "        dfHTot = pd.concat(frames)"
   ]
  },
  {
   "cell_type": "code",
   "execution_count": 27,
   "metadata": {},
   "outputs": [],
   "source": [
    "for i in range(0, len(pathFileM)):\n",
    "    path = pathFileM[i]\n",
    "    dfMTemp = pd.read_csv(path, sep=',',engine='python')\n",
    "\n",
    "    if os.name == 'nt':\n",
    "        spR = rootFileM[i].split('\\\\')\n",
    "    else:\n",
    "        spR = rootFileM[i].split('/')\n",
    "    datatype = spR[-1]\n",
    "    device = spR[-3]\n",
    "    function = spR[-4]\n",
    "    dfMTemp['DEVICE'] = device\n",
    "    dfMTemp['FUNCTION'] = function\n",
    "    dfMTemp['DATA_TYPE'] = datatype\n",
    "    dfMTemp['inputName'] = dfMTemp['inputName'].map(lambda x: x.lstrip('values_'))\n",
    "    dfMTemp['inputName'] = dfMTemp['inputName'].astype(int)\n",
    "    dfMTemp.sort_values('inputName')\n",
    "    \n",
    "    if i == 0:\n",
    "        dfMTot = dfMTemp\n",
    "    else:\n",
    "        frames = [dfMTot, dfMTemp]\n",
    "        dfMTot = pd.concat(frames)"
   ]
  },
  {
   "cell_type": "code",
   "execution_count": 28,
   "metadata": {},
   "outputs": [],
   "source": [
    "for i in range(0, len(pathFileC)):\n",
    "    path = pathFileC[i]\n",
    "    dfCTemp = pd.read_csv(path, sep=',',engine='python')\n",
    "    \n",
    "    if os.name == 'nt':\n",
    "        spR = rootFileC[i].split('\\\\')\n",
    "    else:\n",
    "        spR = rootFileC[i].split('/')\n",
    "    datatype = spR[-1]\n",
    "    device = spR[-3]\n",
    "    function = spR[-4]\n",
    "    dfCTemp['DEVICE'] = device\n",
    "    dfCTemp['FUNCTION'] = function\n",
    "    dfCTemp['DATA_TYPE'] = datatype\n",
    "    dfCTemp['id'] = dfCTemp['id'].map(lambda x: x.lstrip('values_'))\n",
    "    dfCTemp['id'] = dfCTemp['id'].astype(int)\n",
    "    dfCTemp.sort_values('id')\n",
    "    \n",
    "    if i == 0:\n",
    "        dfCTot = dfCTemp\n",
    "    else:\n",
    "        frames = [dfCTot, dfCTemp]\n",
    "        dfCTot = pd.concat(frames)"
   ]
  },
  {
   "cell_type": "code",
   "execution_count": 29,
   "metadata": {},
   "outputs": [],
   "source": [
    "for i in range(0, len(pathFileS)):\n",
    "    path = pathFileS[i]\n",
    "    dfSTemp = pd.read_csv(path, sep=',',engine='python')\n",
    "    \n",
    "    if os.name == 'nt':\n",
    "        spR = rootFileS[i].split('\\\\')\n",
    "    else:\n",
    "        spR = rootFileS[i].split('/')\n",
    "    datatype = spR[-1]\n",
    "    device = spR[-3]\n",
    "    function = spR[-4]\n",
    "    dfSTemp['DEVICE'] = device\n",
    "    dfSTemp['FUNCTION'] = function\n",
    "    dfSTemp['DATA_TYPE'] = datatype\n",
    "    dfSTemp['id'] = dfSTemp['id'].map(lambda x: x.lstrip('values_'))\n",
    "    dfSTemp['id'] = dfSTemp['id'].astype(int)\n",
    "    dfSTemp.sort_values('id')\n",
    "    \n",
    "    if i == 0:\n",
    "        dfSTot = dfSTemp\n",
    "    else:\n",
    "        frames = [dfSTot, dfSTemp]\n",
    "        dfSTot = pd.concat(frames)"
   ]
  },
  {
   "cell_type": "code",
   "execution_count": 30,
   "metadata": {},
   "outputs": [],
   "source": [
    "dfCCTot = pd.merge(dfSTot, dfCTot, on=['id','DEVICE','FUNCTION','DATA_TYPE'], how='inner')"
   ]
  },
  {
   "cell_type": "code",
   "execution_count": 31,
   "metadata": {},
   "outputs": [],
   "source": [
    "dfCCTot['CC4CS'] = \"\""
   ]
  },
  {
   "cell_type": "code",
   "execution_count": 32,
   "metadata": {},
   "outputs": [],
   "source": [
    "ccVec = []\n",
    "\n",
    "for i in range(0, dfCCTot.shape[0]):\n",
    "    cc4cs = dfCTot.iloc[i]['clockCycles']/dfSTot.iloc[i]['cInstr']\n",
    "    ccVec.append(cc4cs)\n",
    "    \n",
    "dfCCTot['CC4CS'] = ccVec"
   ]
  },
  {
   "cell_type": "code",
   "execution_count": 33,
   "metadata": {},
   "outputs": [],
   "source": [
    "dfHTot = dfHTot.reset_index(drop=True)\n",
    "dfMTot = dfMTot.reset_index(drop=True)\n",
    "dfCCTot = dfCCTot.reset_index(drop=True)"
   ]
  },
  {
   "cell_type": "code",
   "execution_count": 34,
   "metadata": {},
   "outputs": [],
   "source": [
    "columnsH = ['DEVICE', 'FUNCTION', 'DATA_TYPE',# 'BugsDelivered', \n",
    "            'DifficultyLevel', 'DistinctOperands', \n",
    "            'DistinctOperators', 'Effort', 'ProgramLength', 'ProgramLevel', 'ProgramVolume', \n",
    "            #'TimeToImplement', \n",
    "            'TotalOperators', 'Total_Operands', 'VocabularySize']\n",
    "columnsM = ['DEVICE', 'FUNCTION', 'DATA_TYPE', 'Sloc', 'DecisionPoint', 'GlobalVariables', \n",
    "            'If', 'Loop', 'Goto', 'Assignment', 'ExitPoint', 'Function', 'FunctionCall', \n",
    "            'PointerDereferencing', 'CyclomaticComplexity', 'SyntacticallyReachableFunctions', \n",
    "            'SemanticallyReachedFunctions', 'CoverageEstimation']\n",
    "columnsCC = ['DEVICE', 'FUNCTION', 'DATA_TYPE','cInstr', 'clockCycles', 'assemblyInstr', 'CC4CS']"
   ]
  },
  {
   "cell_type": "code",
   "execution_count": 35,
   "metadata": {},
   "outputs": [],
   "source": [
    "dfHTot = dfHTot[columnsH]\n",
    "dfMTot = dfMTot[columnsM]\n",
    "dfCCTot = dfCCTot[columnsCC]"
   ]
  },
  {
   "cell_type": "code",
   "execution_count": 36,
   "metadata": {},
   "outputs": [],
   "source": [
    "dfPar1 = dfHTot.assign(**dfMTot)\n",
    "dfPar2 = dfPar1.assign(**dfCCTot)"
   ]
  },
  {
   "cell_type": "code",
   "execution_count": 37,
   "metadata": {},
   "outputs": [],
   "source": [
    "dfTot = pd.merge(dfPar2,dfRDC,how='left',on=['DEVICE','FUNCTION','DATA_TYPE'])\n",
    "columnsTot = ['DEVICE', 'FUNCTION', 'DATA_TYPE',# 'BugsDelivered', \n",
    "              'DifficultyLevel',\n",
    "       'DistinctOperands', 'DistinctOperators', 'Effort', 'ProgramLength',\n",
    "       'ProgramLevel', 'ProgramVolume', #'TimeToImplement', \n",
    "       'TotalOperators',\n",
    "       'Total_Operands', 'VocabularySize', 'Sloc', 'DecisionPoint',\n",
    "       'GlobalVariables', 'If', 'Loop', 'Goto', 'Assignment', 'ExitPoint',\n",
    "       'Function', 'FunctionCall', 'PointerDereferencing',\n",
    "       'CyclomaticComplexity', 'SyntacticallyReachableFunctions',\n",
    "       'SemanticallyReachedFunctions', 'CoverageEstimation', 'NUM_S', 'RANGE_S', 'NUM_SI',\n",
    "       'RANGE_SI', 'NUM_ARR', 'RANGE_ARR', 'cInstr', 'assemblyInstr',\n",
    "       'clockCycles', 'CC4CS']\n",
    "dfTot = dfTot[columnsTot]"
   ]
  },
  {
   "cell_type": "code",
   "execution_count": 38,
   "metadata": {},
   "outputs": [],
   "source": [
    "dfTot.to_csv(\"TotalParameterMatrix.csv\", sep=';')"
   ]
  },
  {
   "cell_type": "code",
   "execution_count": 39,
   "metadata": {},
   "outputs": [],
   "source": [
    "if os.name == 'nt':\n",
    "    dfTot.to_csv(\"C:\\\\Users\\\\User\\\\Desktop\\\\Dataset Lavoro\\\\CC4CS\\\\CC4CS_Analysis\\\\Matlab\\\\Workspaces\\\\Dataset\\\\TotalParameterMatrix.csv\", sep=';')\n",
    "else:\n",
    "    dfTot.to_csv(\"/home/dews/Dataset Ricerca/CC4CS/CC4CS_Analysis/Matlab/Workspaces/Dataset/TotalParameterMatrix.csv\", sep=';')"
   ]
  },
  {
   "cell_type": "code",
   "execution_count": null,
   "metadata": {},
   "outputs": [],
   "source": []
  }
 ],
 "metadata": {
  "kernelspec": {
   "display_name": "Python 3",
   "language": "python",
   "name": "python3"
  },
  "language_info": {
   "codemirror_mode": {
    "name": "ipython",
    "version": 3
   },
   "file_extension": ".py",
   "mimetype": "text/x-python",
   "name": "python",
   "nbconvert_exporter": "python",
   "pygments_lexer": "ipython3",
   "version": "3.6.5"
  }
 },
 "nbformat": 4,
 "nbformat_minor": 2
}
